{
 "cells": [
  {
   "cell_type": "code",
   "execution_count": 44,
   "id": "2bd8437e",
   "metadata": {},
   "outputs": [],
   "source": [
    "import pandas as pd\n",
    "import numpy as np\n",
    "import matplotlib.pyplot as plt"
   ]
  },
  {
   "cell_type": "code",
   "execution_count": 93,
   "id": "a53078c4",
   "metadata": {},
   "outputs": [
    {
     "data": {
      "text/html": [
       "<div>\n",
       "<style scoped>\n",
       "    .dataframe tbody tr th:only-of-type {\n",
       "        vertical-align: middle;\n",
       "    }\n",
       "\n",
       "    .dataframe tbody tr th {\n",
       "        vertical-align: top;\n",
       "    }\n",
       "\n",
       "    .dataframe thead th {\n",
       "        text-align: right;\n",
       "    }\n",
       "</style>\n",
       "<table border=\"1\" class=\"dataframe\">\n",
       "  <thead>\n",
       "    <tr style=\"text-align: right;\">\n",
       "      <th></th>\n",
       "      <th>Search Term</th>\n",
       "      <th>Category</th>\n",
       "      <th>Division</th>\n",
       "      <th>Department</th>\n",
       "      <th>Search Frequency Rank</th>\n",
       "      <th>#1 Clicked ASIN</th>\n",
       "      <th>#1 Product Title</th>\n",
       "      <th>#1 Click Share</th>\n",
       "      <th>#1 Conversion Share</th>\n",
       "      <th>#2 Clicked ASIN</th>\n",
       "      <th>#2 Product Title</th>\n",
       "      <th>#2 Click Share</th>\n",
       "      <th>#2 Conversion Share</th>\n",
       "      <th>#3 Clicked ASIN</th>\n",
       "      <th>#3 Product Title</th>\n",
       "      <th>#3 Click Share</th>\n",
       "      <th>#3 Conversion Share</th>\n",
       "    </tr>\n",
       "  </thead>\n",
       "  <tbody>\n",
       "    <tr>\n",
       "      <th>0</th>\n",
       "      <td>Wireless Mouse</td>\n",
       "      <td>Electronics</td>\n",
       "      <td>Computer</td>\n",
       "      <td>Accessories</td>\n",
       "      <td>1</td>\n",
       "      <td>B08L5G9D6Z</td>\n",
       "      <td>Logitech MX Master 3</td>\n",
       "      <td>0.25</td>\n",
       "      <td>0.15</td>\n",
       "      <td>B07X2H6FRZ</td>\n",
       "      <td>Razer DeathAdder V2</td>\n",
       "      <td>0.20</td>\n",
       "      <td>0.10</td>\n",
       "      <td>B07N7T8Q43</td>\n",
       "      <td>Corsair Harpoon RGB</td>\n",
       "      <td>0.15</td>\n",
       "      <td>0.08</td>\n",
       "    </tr>\n",
       "    <tr>\n",
       "      <th>1</th>\n",
       "      <td>Yoga Mat</td>\n",
       "      <td>Sports</td>\n",
       "      <td>Fitness</td>\n",
       "      <td>Equipment</td>\n",
       "      <td>2</td>\n",
       "      <td>B07W9R2Y7D</td>\n",
       "      <td>Liforme Yoga Mat</td>\n",
       "      <td>0.30</td>\n",
       "      <td>0.20</td>\n",
       "      <td>B01M12B7KD</td>\n",
       "      <td>Manduka PRO Yoga Mat</td>\n",
       "      <td>0.25</td>\n",
       "      <td>0.18</td>\n",
       "      <td>B08KJZ4NQ2</td>\n",
       "      <td>Gaiam Cork Yoga Block</td>\n",
       "      <td>0.20</td>\n",
       "      <td>0.12</td>\n",
       "    </tr>\n",
       "    <tr>\n",
       "      <th>2</th>\n",
       "      <td>Instant Pot</td>\n",
       "      <td>Kitchen</td>\n",
       "      <td>Appliances</td>\n",
       "      <td>Cookware</td>\n",
       "      <td>3</td>\n",
       "      <td>B07VLX69CC</td>\n",
       "      <td>Instant Pot Duo 7-in-1</td>\n",
       "      <td>0.40</td>\n",
       "      <td>0.25</td>\n",
       "      <td>B07W28H3M9</td>\n",
       "      <td>Ninja Foodi Pressure Cooker</td>\n",
       "      <td>0.30</td>\n",
       "      <td>0.20</td>\n",
       "      <td>B08F2XJ5CD</td>\n",
       "      <td>Cosori Air Fryer</td>\n",
       "      <td>0.25</td>\n",
       "      <td>0.15</td>\n",
       "    </tr>\n",
       "    <tr>\n",
       "      <th>3</th>\n",
       "      <td>Fitness Tracker</td>\n",
       "      <td>Wearables</td>\n",
       "      <td>Health</td>\n",
       "      <td>Accessories</td>\n",
       "      <td>4</td>\n",
       "      <td>B08D85HJ4L</td>\n",
       "      <td>Fitbit Charge 4</td>\n",
       "      <td>0.35</td>\n",
       "      <td>0.22</td>\n",
       "      <td>B07VGFHR9C</td>\n",
       "      <td>Garmin Vivosmart 4</td>\n",
       "      <td>0.28</td>\n",
       "      <td>0.19</td>\n",
       "      <td>B089QGV3S9</td>\n",
       "      <td>Amazfit Bip U Pro</td>\n",
       "      <td>0.20</td>\n",
       "      <td>0.10</td>\n",
       "    </tr>\n",
       "    <tr>\n",
       "      <th>4</th>\n",
       "      <td>Noise Cancelling Headphones</td>\n",
       "      <td>Electronics</td>\n",
       "      <td>Audio</td>\n",
       "      <td>Accessories</td>\n",
       "      <td>5</td>\n",
       "      <td>B07G7TT9B6</td>\n",
       "      <td>Sony WH-1000XM4</td>\n",
       "      <td>0.45</td>\n",
       "      <td>0.30</td>\n",
       "      <td>B08H6WTR8K</td>\n",
       "      <td>Bose QuietComfort 35 II</td>\n",
       "      <td>0.35</td>\n",
       "      <td>0.25</td>\n",
       "      <td>B07PP4B9FQ</td>\n",
       "      <td>Apple AirPods Max</td>\n",
       "      <td>0.30</td>\n",
       "      <td>0.18</td>\n",
       "    </tr>\n",
       "  </tbody>\n",
       "</table>\n",
       "</div>"
      ],
      "text/plain": [
       "                   Search Term     Category    Division   Department  \\\n",
       "0               Wireless Mouse  Electronics    Computer  Accessories   \n",
       "1                     Yoga Mat       Sports     Fitness    Equipment   \n",
       "2                  Instant Pot      Kitchen  Appliances     Cookware   \n",
       "3              Fitness Tracker    Wearables      Health  Accessories   \n",
       "4  Noise Cancelling Headphones  Electronics       Audio  Accessories   \n",
       "\n",
       "   Search Frequency Rank #1 Clicked ASIN        #1 Product Title  \\\n",
       "0                      1      B08L5G9D6Z    Logitech MX Master 3   \n",
       "1                      2      B07W9R2Y7D        Liforme Yoga Mat   \n",
       "2                      3      B07VLX69CC  Instant Pot Duo 7-in-1   \n",
       "3                      4      B08D85HJ4L         Fitbit Charge 4   \n",
       "4                      5      B07G7TT9B6         Sony WH-1000XM4   \n",
       "\n",
       "   #1 Click Share  #1 Conversion Share #2 Clicked ASIN  \\\n",
       "0            0.25                 0.15      B07X2H6FRZ   \n",
       "1            0.30                 0.20      B01M12B7KD   \n",
       "2            0.40                 0.25      B07W28H3M9   \n",
       "3            0.35                 0.22      B07VGFHR9C   \n",
       "4            0.45                 0.30      B08H6WTR8K   \n",
       "\n",
       "              #2 Product Title  #2 Click Share  #2 Conversion Share  \\\n",
       "0          Razer DeathAdder V2            0.20                 0.10   \n",
       "1         Manduka PRO Yoga Mat            0.25                 0.18   \n",
       "2  Ninja Foodi Pressure Cooker            0.30                 0.20   \n",
       "3           Garmin Vivosmart 4            0.28                 0.19   \n",
       "4      Bose QuietComfort 35 II            0.35                 0.25   \n",
       "\n",
       "  #3 Clicked ASIN       #3 Product Title  #3 Click Share  #3 Conversion Share  \n",
       "0      B07N7T8Q43    Corsair Harpoon RGB            0.15                 0.08  \n",
       "1      B08KJZ4NQ2  Gaiam Cork Yoga Block            0.20                 0.12  \n",
       "2      B08F2XJ5CD       Cosori Air Fryer            0.25                 0.15  \n",
       "3      B089QGV3S9      Amazfit Bip U Pro            0.20                 0.10  \n",
       "4      B07PP4B9FQ      Apple AirPods Max            0.30                 0.18  "
      ]
     },
     "execution_count": 93,
     "metadata": {},
     "output_type": "execute_result"
    }
   ],
   "source": [
    "df=pd.read_excel('Trend Dataset.xlsx')\n",
    "df"
   ]
  },
  {
   "cell_type": "code",
   "execution_count": 95,
   "id": "db61c603",
   "metadata": {},
   "outputs": [
    {
     "data": {
      "text/plain": [
       "Search Term              0\n",
       "Category                 0\n",
       "Division                 0\n",
       "Department               0\n",
       "Search Frequency Rank    0\n",
       "#1 Clicked ASIN          0\n",
       "#1 Product Title         0\n",
       "#1 Click Share           0\n",
       "#1 Conversion Share      0\n",
       "#2 Clicked ASIN          0\n",
       "#2 Product Title         0\n",
       "#2 Click Share           0\n",
       "#2 Conversion Share      0\n",
       "#3 Clicked ASIN          0\n",
       "#3 Product Title         0\n",
       "#3 Click Share           0\n",
       "#3 Conversion Share      0\n",
       "dtype: int64"
      ]
     },
     "execution_count": 95,
     "metadata": {},
     "output_type": "execute_result"
    }
   ],
   "source": [
    "df.isnull().sum()"
   ]
  },
  {
   "cell_type": "code",
   "execution_count": 97,
   "id": "acdca37f",
   "metadata": {},
   "outputs": [
    {
     "data": {
      "text/plain": [
       "(5, 17)"
      ]
     },
     "execution_count": 97,
     "metadata": {},
     "output_type": "execute_result"
    }
   ],
   "source": [
    "df.shape"
   ]
  },
  {
   "cell_type": "code",
   "execution_count": 99,
   "id": "cbc65857",
   "metadata": {},
   "outputs": [
    {
     "data": {
      "text/plain": [
       "Division\n",
       "Computer      1\n",
       "Fitness       1\n",
       "Appliances    1\n",
       "Health        1\n",
       "Audio         1\n",
       "Name: count, dtype: int64"
      ]
     },
     "execution_count": 99,
     "metadata": {},
     "output_type": "execute_result"
    }
   ],
   "source": [
    "df['Division'].value_counts()"
   ]
  },
  {
   "cell_type": "code",
   "execution_count": 49,
   "id": "50a4ea76",
   "metadata": {},
   "outputs": [
    {
     "data": {
      "text/html": [
       "<div>\n",
       "<style scoped>\n",
       "    .dataframe tbody tr th:only-of-type {\n",
       "        vertical-align: middle;\n",
       "    }\n",
       "\n",
       "    .dataframe tbody tr th {\n",
       "        vertical-align: top;\n",
       "    }\n",
       "\n",
       "    .dataframe thead th {\n",
       "        text-align: right;\n",
       "    }\n",
       "</style>\n",
       "<table border=\"1\" class=\"dataframe\">\n",
       "  <thead>\n",
       "    <tr style=\"text-align: right;\">\n",
       "      <th></th>\n",
       "      <th>Search Term</th>\n",
       "      <th>Category</th>\n",
       "      <th>Division</th>\n",
       "      <th>Department</th>\n",
       "      <th>Search Frequency Rank</th>\n",
       "      <th>#1 Clicked ASIN</th>\n",
       "      <th>#1 Product Title</th>\n",
       "      <th>#1 Click Share</th>\n",
       "      <th>#1 Conversion Share</th>\n",
       "      <th>#2 Clicked ASIN</th>\n",
       "      <th>#2 Product Title</th>\n",
       "      <th>#2 Click Share</th>\n",
       "      <th>#2 Conversion Share</th>\n",
       "      <th>#3 Clicked ASIN</th>\n",
       "      <th>#3 Product Title</th>\n",
       "      <th>#3 Click Share</th>\n",
       "      <th>#3 Conversion Share</th>\n",
       "    </tr>\n",
       "  </thead>\n",
       "  <tbody>\n",
       "    <tr>\n",
       "      <th>0</th>\n",
       "      <td>Wireless Mouse</td>\n",
       "      <td>Electronics</td>\n",
       "      <td>Computer</td>\n",
       "      <td>Accessories</td>\n",
       "      <td>1</td>\n",
       "      <td>B08L5G9D6Z</td>\n",
       "      <td>Logitech MX Master 3</td>\n",
       "      <td>0.25</td>\n",
       "      <td>0.15</td>\n",
       "      <td>B07X2H6FRZ</td>\n",
       "      <td>Razer DeathAdder V2</td>\n",
       "      <td>0.20</td>\n",
       "      <td>0.10</td>\n",
       "      <td>B07N7T8Q43</td>\n",
       "      <td>Corsair Harpoon RGB</td>\n",
       "      <td>0.15</td>\n",
       "      <td>0.08</td>\n",
       "    </tr>\n",
       "    <tr>\n",
       "      <th>1</th>\n",
       "      <td>Yoga Mat</td>\n",
       "      <td>Sports</td>\n",
       "      <td>Fitness</td>\n",
       "      <td>Equipment</td>\n",
       "      <td>2</td>\n",
       "      <td>B07W9R2Y7D</td>\n",
       "      <td>Liforme Yoga Mat</td>\n",
       "      <td>0.30</td>\n",
       "      <td>0.20</td>\n",
       "      <td>B01M12B7KD</td>\n",
       "      <td>Manduka PRO Yoga Mat</td>\n",
       "      <td>0.25</td>\n",
       "      <td>0.18</td>\n",
       "      <td>B08KJZ4NQ2</td>\n",
       "      <td>Gaiam Cork Yoga Block</td>\n",
       "      <td>0.20</td>\n",
       "      <td>0.12</td>\n",
       "    </tr>\n",
       "    <tr>\n",
       "      <th>2</th>\n",
       "      <td>Instant Pot</td>\n",
       "      <td>Kitchen</td>\n",
       "      <td>Appliances</td>\n",
       "      <td>Cookware</td>\n",
       "      <td>3</td>\n",
       "      <td>B07VLX69CC</td>\n",
       "      <td>Instant Pot Duo 7-in-1</td>\n",
       "      <td>0.40</td>\n",
       "      <td>0.25</td>\n",
       "      <td>B07W28H3M9</td>\n",
       "      <td>Ninja Foodi Pressure Cooker</td>\n",
       "      <td>0.30</td>\n",
       "      <td>0.20</td>\n",
       "      <td>B08F2XJ5CD</td>\n",
       "      <td>Cosori Air Fryer</td>\n",
       "      <td>0.25</td>\n",
       "      <td>0.15</td>\n",
       "    </tr>\n",
       "    <tr>\n",
       "      <th>3</th>\n",
       "      <td>Fitness Tracker</td>\n",
       "      <td>Wearables</td>\n",
       "      <td>Health</td>\n",
       "      <td>Accessories</td>\n",
       "      <td>4</td>\n",
       "      <td>B08D85HJ4L</td>\n",
       "      <td>Fitbit Charge 4</td>\n",
       "      <td>0.35</td>\n",
       "      <td>0.22</td>\n",
       "      <td>B07VGFHR9C</td>\n",
       "      <td>Garmin Vivosmart 4</td>\n",
       "      <td>0.28</td>\n",
       "      <td>0.19</td>\n",
       "      <td>B089QGV3S9</td>\n",
       "      <td>Amazfit Bip U Pro</td>\n",
       "      <td>0.20</td>\n",
       "      <td>0.10</td>\n",
       "    </tr>\n",
       "    <tr>\n",
       "      <th>4</th>\n",
       "      <td>Noise Cancelling Headphones</td>\n",
       "      <td>Electronics</td>\n",
       "      <td>Audio</td>\n",
       "      <td>Accessories</td>\n",
       "      <td>5</td>\n",
       "      <td>B07G7TT9B6</td>\n",
       "      <td>Sony WH-1000XM4</td>\n",
       "      <td>0.45</td>\n",
       "      <td>0.30</td>\n",
       "      <td>B08H6WTR8K</td>\n",
       "      <td>Bose QuietComfort 35 II</td>\n",
       "      <td>0.35</td>\n",
       "      <td>0.25</td>\n",
       "      <td>B07PP4B9FQ</td>\n",
       "      <td>Apple AirPods Max</td>\n",
       "      <td>0.30</td>\n",
       "      <td>0.18</td>\n",
       "    </tr>\n",
       "  </tbody>\n",
       "</table>\n",
       "</div>"
      ],
      "text/plain": [
       "                   Search Term     Category    Division   Department  \\\n",
       "0               Wireless Mouse  Electronics    Computer  Accessories   \n",
       "1                     Yoga Mat       Sports     Fitness    Equipment   \n",
       "2                  Instant Pot      Kitchen  Appliances     Cookware   \n",
       "3              Fitness Tracker    Wearables      Health  Accessories   \n",
       "4  Noise Cancelling Headphones  Electronics       Audio  Accessories   \n",
       "\n",
       "   Search Frequency Rank #1 Clicked ASIN        #1 Product Title  \\\n",
       "0                      1      B08L5G9D6Z    Logitech MX Master 3   \n",
       "1                      2      B07W9R2Y7D        Liforme Yoga Mat   \n",
       "2                      3      B07VLX69CC  Instant Pot Duo 7-in-1   \n",
       "3                      4      B08D85HJ4L         Fitbit Charge 4   \n",
       "4                      5      B07G7TT9B6         Sony WH-1000XM4   \n",
       "\n",
       "   #1 Click Share  #1 Conversion Share #2 Clicked ASIN  \\\n",
       "0            0.25                 0.15      B07X2H6FRZ   \n",
       "1            0.30                 0.20      B01M12B7KD   \n",
       "2            0.40                 0.25      B07W28H3M9   \n",
       "3            0.35                 0.22      B07VGFHR9C   \n",
       "4            0.45                 0.30      B08H6WTR8K   \n",
       "\n",
       "              #2 Product Title  #2 Click Share  #2 Conversion Share  \\\n",
       "0          Razer DeathAdder V2            0.20                 0.10   \n",
       "1         Manduka PRO Yoga Mat            0.25                 0.18   \n",
       "2  Ninja Foodi Pressure Cooker            0.30                 0.20   \n",
       "3           Garmin Vivosmart 4            0.28                 0.19   \n",
       "4      Bose QuietComfort 35 II            0.35                 0.25   \n",
       "\n",
       "  #3 Clicked ASIN       #3 Product Title  #3 Click Share  #3 Conversion Share  \n",
       "0      B07N7T8Q43    Corsair Harpoon RGB            0.15                 0.08  \n",
       "1      B08KJZ4NQ2  Gaiam Cork Yoga Block            0.20                 0.12  \n",
       "2      B08F2XJ5CD       Cosori Air Fryer            0.25                 0.15  \n",
       "3      B089QGV3S9      Amazfit Bip U Pro            0.20                 0.10  \n",
       "4      B07PP4B9FQ      Apple AirPods Max            0.30                 0.18  "
      ]
     },
     "execution_count": 49,
     "metadata": {},
     "output_type": "execute_result"
    }
   ],
   "source": [
    "df_new=df[df['Division']!='others']\n",
    "df_new.shape\n",
    "df_new"
   ]
  },
  {
   "cell_type": "code",
   "execution_count": 50,
   "id": "bef424c3",
   "metadata": {},
   "outputs": [
    {
     "data": {
      "text/plain": [
       "Search Term              0\n",
       "Category                 0\n",
       "Division                 0\n",
       "Department               0\n",
       "Search Frequency Rank    0\n",
       "#1 Clicked ASIN          0\n",
       "#1 Product Title         0\n",
       "#1 Click Share           0\n",
       "#1 Conversion Share      0\n",
       "#2 Clicked ASIN          0\n",
       "#2 Product Title         0\n",
       "#2 Click Share           0\n",
       "#2 Conversion Share      0\n",
       "#3 Clicked ASIN          0\n",
       "#3 Product Title         0\n",
       "#3 Click Share           0\n",
       "#3 Conversion Share      0\n",
       "dtype: int64"
      ]
     },
     "execution_count": 50,
     "metadata": {},
     "output_type": "execute_result"
    }
   ],
   "source": [
    "df_new.isnull().sum()"
   ]
  },
  {
   "cell_type": "code",
   "execution_count": 51,
   "id": "4702bb8b",
   "metadata": {},
   "outputs": [
    {
     "data": {
      "text/plain": [
       "Index(['Search Term', 'Category', 'Division', 'Department',\n",
       "       'Search Frequency Rank', '#1 Clicked ASIN', '#1 Product Title',\n",
       "       '#1 Click Share', '#1 Conversion Share', '#2 Clicked ASIN',\n",
       "       '#2 Product Title', '#2 Click Share', '#2 Conversion Share',\n",
       "       '#3 Clicked ASIN', '#3 Product Title', '#3 Click Share',\n",
       "       '#3 Conversion Share'],\n",
       "      dtype='object')"
      ]
     },
     "execution_count": 51,
     "metadata": {},
     "output_type": "execute_result"
    }
   ],
   "source": [
    "df_new.columns"
   ]
  },
  {
   "cell_type": "code",
   "execution_count": 52,
   "id": "36a1be90",
   "metadata": {},
   "outputs": [
    {
     "data": {
      "text/plain": [
       "(5, 5)"
      ]
     },
     "execution_count": 52,
     "metadata": {},
     "output_type": "execute_result"
    }
   ],
   "source": [
    "df_rel=df_new[['Search Term','Division','Search Frequency Rank','Department','Category']]\n",
    "df_rel.shape"
   ]
  },
  {
   "cell_type": "code",
   "execution_count": 53,
   "id": "6e113955",
   "metadata": {},
   "outputs": [
    {
     "data": {
      "text/plain": [
       "Search Term              0\n",
       "Division                 0\n",
       "Search Frequency Rank    0\n",
       "Department               0\n",
       "Category                 0\n",
       "dtype: int64"
      ]
     },
     "execution_count": 53,
     "metadata": {},
     "output_type": "execute_result"
    }
   ],
   "source": [
    "df_rel.isnull().sum()"
   ]
  },
  {
   "cell_type": "code",
   "execution_count": 54,
   "id": "f1a1c1ca",
   "metadata": {},
   "outputs": [
    {
     "data": {
      "text/html": [
       "<div>\n",
       "<style scoped>\n",
       "    .dataframe tbody tr th:only-of-type {\n",
       "        vertical-align: middle;\n",
       "    }\n",
       "\n",
       "    .dataframe tbody tr th {\n",
       "        vertical-align: top;\n",
       "    }\n",
       "\n",
       "    .dataframe thead th {\n",
       "        text-align: right;\n",
       "    }\n",
       "</style>\n",
       "<table border=\"1\" class=\"dataframe\">\n",
       "  <thead>\n",
       "    <tr style=\"text-align: right;\">\n",
       "      <th></th>\n",
       "      <th>Search Term</th>\n",
       "      <th>Division</th>\n",
       "      <th>Search Frequency Rank</th>\n",
       "      <th>Department</th>\n",
       "      <th>Category</th>\n",
       "    </tr>\n",
       "  </thead>\n",
       "  <tbody>\n",
       "    <tr>\n",
       "      <th>0</th>\n",
       "      <td>Wireless Mouse</td>\n",
       "      <td>Computer</td>\n",
       "      <td>1</td>\n",
       "      <td>Accessories</td>\n",
       "      <td>Electronics</td>\n",
       "    </tr>\n",
       "    <tr>\n",
       "      <th>1</th>\n",
       "      <td>Yoga Mat</td>\n",
       "      <td>Fitness</td>\n",
       "      <td>2</td>\n",
       "      <td>Equipment</td>\n",
       "      <td>Sports</td>\n",
       "    </tr>\n",
       "    <tr>\n",
       "      <th>2</th>\n",
       "      <td>Instant Pot</td>\n",
       "      <td>Appliances</td>\n",
       "      <td>3</td>\n",
       "      <td>Cookware</td>\n",
       "      <td>Kitchen</td>\n",
       "    </tr>\n",
       "    <tr>\n",
       "      <th>3</th>\n",
       "      <td>Fitness Tracker</td>\n",
       "      <td>Health</td>\n",
       "      <td>4</td>\n",
       "      <td>Accessories</td>\n",
       "      <td>Wearables</td>\n",
       "    </tr>\n",
       "    <tr>\n",
       "      <th>4</th>\n",
       "      <td>Noise Cancelling Headphones</td>\n",
       "      <td>Audio</td>\n",
       "      <td>5</td>\n",
       "      <td>Accessories</td>\n",
       "      <td>Electronics</td>\n",
       "    </tr>\n",
       "  </tbody>\n",
       "</table>\n",
       "</div>"
      ],
      "text/plain": [
       "                   Search Term    Division  Search Frequency Rank  \\\n",
       "0               Wireless Mouse    Computer                      1   \n",
       "1                     Yoga Mat     Fitness                      2   \n",
       "2                  Instant Pot  Appliances                      3   \n",
       "3              Fitness Tracker      Health                      4   \n",
       "4  Noise Cancelling Headphones       Audio                      5   \n",
       "\n",
       "    Department     Category  \n",
       "0  Accessories  Electronics  \n",
       "1    Equipment       Sports  \n",
       "2     Cookware      Kitchen  \n",
       "3  Accessories    Wearables  \n",
       "4  Accessories  Electronics  "
      ]
     },
     "execution_count": 54,
     "metadata": {},
     "output_type": "execute_result"
    }
   ],
   "source": [
    "df_rel.head(5)"
   ]
  },
  {
   "cell_type": "code",
   "execution_count": 55,
   "id": "95ae6def",
   "metadata": {},
   "outputs": [
    {
     "data": {
      "text/plain": [
       "Department\n",
       "Accessories    3\n",
       "Equipment      1\n",
       "Cookware       1\n",
       "Name: count, dtype: int64"
      ]
     },
     "execution_count": 55,
     "metadata": {},
     "output_type": "execute_result"
    }
   ],
   "source": [
    "df_rel['Department'].value_counts()"
   ]
  },
  {
   "cell_type": "code",
   "execution_count": 56,
   "id": "c50dea23",
   "metadata": {},
   "outputs": [
    {
     "data": {
      "text/plain": [
       "(5, 4)"
      ]
     },
     "execution_count": 56,
     "metadata": {},
     "output_type": "execute_result"
    }
   ],
   "source": [
    "df_rel=df_rel.drop('Department',axis=1)\n",
    "df_rel.shape"
   ]
  },
  {
   "cell_type": "code",
   "execution_count": 57,
   "id": "3ea4e7a8",
   "metadata": {},
   "outputs": [
    {
     "data": {
      "text/html": [
       "<div>\n",
       "<style scoped>\n",
       "    .dataframe tbody tr th:only-of-type {\n",
       "        vertical-align: middle;\n",
       "    }\n",
       "\n",
       "    .dataframe tbody tr th {\n",
       "        vertical-align: top;\n",
       "    }\n",
       "\n",
       "    .dataframe thead th {\n",
       "        text-align: right;\n",
       "    }\n",
       "</style>\n",
       "<table border=\"1\" class=\"dataframe\">\n",
       "  <thead>\n",
       "    <tr style=\"text-align: right;\">\n",
       "      <th></th>\n",
       "      <th>Search Term</th>\n",
       "      <th>Division</th>\n",
       "      <th>Search Frequency Rank</th>\n",
       "      <th>Category</th>\n",
       "    </tr>\n",
       "  </thead>\n",
       "  <tbody>\n",
       "    <tr>\n",
       "      <th>0</th>\n",
       "      <td>Wireless Mouse</td>\n",
       "      <td>Computer</td>\n",
       "      <td>1</td>\n",
       "      <td>Electronics</td>\n",
       "    </tr>\n",
       "    <tr>\n",
       "      <th>1</th>\n",
       "      <td>Yoga Mat</td>\n",
       "      <td>Fitness</td>\n",
       "      <td>2</td>\n",
       "      <td>Sports</td>\n",
       "    </tr>\n",
       "    <tr>\n",
       "      <th>2</th>\n",
       "      <td>Instant Pot</td>\n",
       "      <td>Appliances</td>\n",
       "      <td>3</td>\n",
       "      <td>Kitchen</td>\n",
       "    </tr>\n",
       "    <tr>\n",
       "      <th>3</th>\n",
       "      <td>Fitness Tracker</td>\n",
       "      <td>Health</td>\n",
       "      <td>4</td>\n",
       "      <td>Wearables</td>\n",
       "    </tr>\n",
       "    <tr>\n",
       "      <th>4</th>\n",
       "      <td>Noise Cancelling Headphones</td>\n",
       "      <td>Audio</td>\n",
       "      <td>5</td>\n",
       "      <td>Electronics</td>\n",
       "    </tr>\n",
       "  </tbody>\n",
       "</table>\n",
       "</div>"
      ],
      "text/plain": [
       "                   Search Term    Division  Search Frequency Rank     Category\n",
       "0               Wireless Mouse    Computer                      1  Electronics\n",
       "1                     Yoga Mat     Fitness                      2       Sports\n",
       "2                  Instant Pot  Appliances                      3      Kitchen\n",
       "3              Fitness Tracker      Health                      4    Wearables\n",
       "4  Noise Cancelling Headphones       Audio                      5  Electronics"
      ]
     },
     "execution_count": 57,
     "metadata": {},
     "output_type": "execute_result"
    }
   ],
   "source": [
    "df_rel.head(5)"
   ]
  },
  {
   "cell_type": "markdown",
   "id": "37e082e0",
   "metadata": {},
   "source": [
    "2 types of trends:\n",
    "\n",
    "    1. Trends for individual Division\n",
    "    2. Trends for overall dataset"
   ]
  },
  {
   "cell_type": "code",
   "execution_count": 75,
   "id": "0dfa05a7",
   "metadata": {},
   "outputs": [
    {
     "data": {
      "text/plain": [
       "0                 Wireless Mouse\n",
       "1                       Yoga Mat\n",
       "2                    Instant Pot\n",
       "3                Fitness Tracker\n",
       "4    Noise Cancelling Headphones\n",
       "Name: Search Term, dtype: object"
      ]
     },
     "execution_count": 75,
     "metadata": {},
     "output_type": "execute_result"
    }
   ],
   "source": [
    "df_search=df_rel['Search Term']\n",
    "df_search"
   ]
  },
  {
   "cell_type": "code",
   "execution_count": 79,
   "id": "8ffee4db",
   "metadata": {},
   "outputs": [
    {
     "name": "stdout",
     "output_type": "stream",
     "text": [
      "No of tokens in the entire dataset: 11\n"
     ]
    },
    {
     "name": "stderr",
     "output_type": "stream",
     "text": [
      "<>:1: SyntaxWarning: invalid escape sequence '\\s'\n",
      "<>:1: SyntaxWarning: invalid escape sequence '\\s'\n",
      "C:\\Users\\DELL\\AppData\\Local\\Temp\\ipykernel_12720\\1519355946.py:1: SyntaxWarning: invalid escape sequence '\\s'\n",
      "  corp=df_search.str.lower().str.replace('[^a-z\\s#@]','')\n"
     ]
    }
   ],
   "source": [
    "corp=df_search.str.lower().str.replace('[^a-z\\s#@]','')\n",
    "corp_tok=corp.str.split(' ')\n",
    "\n",
    "tokens_all=[]\n",
    "for tokens in corp_tok:\n",
    "    tokens_all.extend(tokens)\n",
    "\n",
    "print('No of tokens in the entire dataset:',len(tokens_all))"
   ]
  },
  {
   "cell_type": "code",
   "execution_count": 61,
   "id": "76ff100e",
   "metadata": {},
   "outputs": [
    {
     "data": {
      "text/plain": [
       "['wireless',\n",
       " 'mouse',\n",
       " 'yoga',\n",
       " 'mat',\n",
       " 'instant',\n",
       " 'pot',\n",
       " 'fitness',\n",
       " 'tracker',\n",
       " 'noise',\n",
       " 'cancelling',\n",
       " 'headphones']"
      ]
     },
     "execution_count": 61,
     "metadata": {},
     "output_type": "execute_result"
    }
   ],
   "source": [
    "tokens_all"
   ]
  },
  {
   "cell_type": "code",
   "execution_count": 62,
   "id": "5e62a7cd",
   "metadata": {},
   "outputs": [
    {
     "name": "stdout",
     "output_type": "stream",
     "text": [
      "Requirement already satisfied: nltk in c:\\users\\dell\\anaconda3\\lib\\site-packages (3.8.1)\n",
      "Requirement already satisfied: click in c:\\users\\dell\\anaconda3\\lib\\site-packages (from nltk) (8.1.7)\n",
      "Requirement already satisfied: joblib in c:\\users\\dell\\anaconda3\\lib\\site-packages (from nltk) (1.4.2)\n",
      "Requirement already satisfied: regex>=2021.8.3 in c:\\users\\dell\\anaconda3\\lib\\site-packages (from nltk) (2023.10.3)\n",
      "Requirement already satisfied: tqdm in c:\\users\\dell\\anaconda3\\lib\\site-packages (from nltk) (4.66.4)\n",
      "Requirement already satisfied: colorama in c:\\users\\dell\\appdata\\roaming\\python\\python312\\site-packages (from click->nltk) (0.4.6)\n",
      "Note: you may need to restart the kernel to use updated packages.\n"
     ]
    }
   ],
   "source": [
    "pip install nltk"
   ]
  },
  {
   "cell_type": "code",
   "execution_count": 63,
   "id": "7be5de29",
   "metadata": {},
   "outputs": [],
   "source": [
    "import nltk"
   ]
  },
  {
   "cell_type": "code",
   "execution_count": 83,
   "id": "76e84197",
   "metadata": {},
   "outputs": [
    {
     "name": "stderr",
     "output_type": "stream",
     "text": [
      "[nltk_data] Downloading package stopwords to\n",
      "[nltk_data]     C:\\Users\\DELL\\AppData\\Roaming\\nltk_data...\n",
      "[nltk_data]   Package stopwords is already up-to-date!\n"
     ]
    },
    {
     "data": {
      "text/plain": [
       "True"
      ]
     },
     "execution_count": 83,
     "metadata": {},
     "output_type": "execute_result"
    }
   ],
   "source": [
    "nltk.download('stopwords')"
   ]
  },
  {
   "cell_type": "code",
   "execution_count": 85,
   "id": "605fce9a",
   "metadata": {},
   "outputs": [
    {
     "data": {
      "text/plain": [
       "179"
      ]
     },
     "execution_count": 85,
     "metadata": {},
     "output_type": "execute_result"
    }
   ],
   "source": [
    "common_stopwords=nltk.corpus.stopwords.words('english')\n",
    "len(common_stopwords)"
   ]
  },
  {
   "cell_type": "code",
   "execution_count": 91,
   "id": "4ca4743d",
   "metadata": {},
   "outputs": [
    {
     "ename": "FileNotFoundError",
     "evalue": "[Errno 2] No such file or directory: 'custom_stopwords.csv'",
     "output_type": "error",
     "traceback": [
      "\u001b[1;31m---------------------------------------------------------------------------\u001b[0m",
      "\u001b[1;31mFileNotFoundError\u001b[0m                         Traceback (most recent call last)",
      "Cell \u001b[1;32mIn[91], line 1\u001b[0m\n\u001b[1;32m----> 1\u001b[0m df_stpwrds\u001b[38;5;241m=\u001b[39m\u001b[43mpd\u001b[49m\u001b[38;5;241;43m.\u001b[39;49m\u001b[43mread_csv\u001b[49m\u001b[43m(\u001b[49m\u001b[38;5;124;43m'\u001b[39;49m\u001b[38;5;124;43mcustom_stopwords.csv\u001b[39;49m\u001b[38;5;124;43m'\u001b[39;49m\u001b[43m)\u001b[49m\n\u001b[0;32m      2\u001b[0m df_stpwrds\n",
      "File \u001b[1;32m~\\anaconda3\\Lib\\site-packages\\pandas\\io\\parsers\\readers.py:1026\u001b[0m, in \u001b[0;36mread_csv\u001b[1;34m(filepath_or_buffer, sep, delimiter, header, names, index_col, usecols, dtype, engine, converters, true_values, false_values, skipinitialspace, skiprows, skipfooter, nrows, na_values, keep_default_na, na_filter, verbose, skip_blank_lines, parse_dates, infer_datetime_format, keep_date_col, date_parser, date_format, dayfirst, cache_dates, iterator, chunksize, compression, thousands, decimal, lineterminator, quotechar, quoting, doublequote, escapechar, comment, encoding, encoding_errors, dialect, on_bad_lines, delim_whitespace, low_memory, memory_map, float_precision, storage_options, dtype_backend)\u001b[0m\n\u001b[0;32m   1013\u001b[0m kwds_defaults \u001b[38;5;241m=\u001b[39m _refine_defaults_read(\n\u001b[0;32m   1014\u001b[0m     dialect,\n\u001b[0;32m   1015\u001b[0m     delimiter,\n\u001b[1;32m   (...)\u001b[0m\n\u001b[0;32m   1022\u001b[0m     dtype_backend\u001b[38;5;241m=\u001b[39mdtype_backend,\n\u001b[0;32m   1023\u001b[0m )\n\u001b[0;32m   1024\u001b[0m kwds\u001b[38;5;241m.\u001b[39mupdate(kwds_defaults)\n\u001b[1;32m-> 1026\u001b[0m \u001b[38;5;28;01mreturn\u001b[39;00m \u001b[43m_read\u001b[49m\u001b[43m(\u001b[49m\u001b[43mfilepath_or_buffer\u001b[49m\u001b[43m,\u001b[49m\u001b[43m \u001b[49m\u001b[43mkwds\u001b[49m\u001b[43m)\u001b[49m\n",
      "File \u001b[1;32m~\\anaconda3\\Lib\\site-packages\\pandas\\io\\parsers\\readers.py:620\u001b[0m, in \u001b[0;36m_read\u001b[1;34m(filepath_or_buffer, kwds)\u001b[0m\n\u001b[0;32m    617\u001b[0m _validate_names(kwds\u001b[38;5;241m.\u001b[39mget(\u001b[38;5;124m\"\u001b[39m\u001b[38;5;124mnames\u001b[39m\u001b[38;5;124m\"\u001b[39m, \u001b[38;5;28;01mNone\u001b[39;00m))\n\u001b[0;32m    619\u001b[0m \u001b[38;5;66;03m# Create the parser.\u001b[39;00m\n\u001b[1;32m--> 620\u001b[0m parser \u001b[38;5;241m=\u001b[39m \u001b[43mTextFileReader\u001b[49m\u001b[43m(\u001b[49m\u001b[43mfilepath_or_buffer\u001b[49m\u001b[43m,\u001b[49m\u001b[43m \u001b[49m\u001b[38;5;241;43m*\u001b[39;49m\u001b[38;5;241;43m*\u001b[39;49m\u001b[43mkwds\u001b[49m\u001b[43m)\u001b[49m\n\u001b[0;32m    622\u001b[0m \u001b[38;5;28;01mif\u001b[39;00m chunksize \u001b[38;5;129;01mor\u001b[39;00m iterator:\n\u001b[0;32m    623\u001b[0m     \u001b[38;5;28;01mreturn\u001b[39;00m parser\n",
      "File \u001b[1;32m~\\anaconda3\\Lib\\site-packages\\pandas\\io\\parsers\\readers.py:1620\u001b[0m, in \u001b[0;36mTextFileReader.__init__\u001b[1;34m(self, f, engine, **kwds)\u001b[0m\n\u001b[0;32m   1617\u001b[0m     \u001b[38;5;28mself\u001b[39m\u001b[38;5;241m.\u001b[39moptions[\u001b[38;5;124m\"\u001b[39m\u001b[38;5;124mhas_index_names\u001b[39m\u001b[38;5;124m\"\u001b[39m] \u001b[38;5;241m=\u001b[39m kwds[\u001b[38;5;124m\"\u001b[39m\u001b[38;5;124mhas_index_names\u001b[39m\u001b[38;5;124m\"\u001b[39m]\n\u001b[0;32m   1619\u001b[0m \u001b[38;5;28mself\u001b[39m\u001b[38;5;241m.\u001b[39mhandles: IOHandles \u001b[38;5;241m|\u001b[39m \u001b[38;5;28;01mNone\u001b[39;00m \u001b[38;5;241m=\u001b[39m \u001b[38;5;28;01mNone\u001b[39;00m\n\u001b[1;32m-> 1620\u001b[0m \u001b[38;5;28mself\u001b[39m\u001b[38;5;241m.\u001b[39m_engine \u001b[38;5;241m=\u001b[39m \u001b[38;5;28;43mself\u001b[39;49m\u001b[38;5;241;43m.\u001b[39;49m\u001b[43m_make_engine\u001b[49m\u001b[43m(\u001b[49m\u001b[43mf\u001b[49m\u001b[43m,\u001b[49m\u001b[43m \u001b[49m\u001b[38;5;28;43mself\u001b[39;49m\u001b[38;5;241;43m.\u001b[39;49m\u001b[43mengine\u001b[49m\u001b[43m)\u001b[49m\n",
      "File \u001b[1;32m~\\anaconda3\\Lib\\site-packages\\pandas\\io\\parsers\\readers.py:1880\u001b[0m, in \u001b[0;36mTextFileReader._make_engine\u001b[1;34m(self, f, engine)\u001b[0m\n\u001b[0;32m   1878\u001b[0m     \u001b[38;5;28;01mif\u001b[39;00m \u001b[38;5;124m\"\u001b[39m\u001b[38;5;124mb\u001b[39m\u001b[38;5;124m\"\u001b[39m \u001b[38;5;129;01mnot\u001b[39;00m \u001b[38;5;129;01min\u001b[39;00m mode:\n\u001b[0;32m   1879\u001b[0m         mode \u001b[38;5;241m+\u001b[39m\u001b[38;5;241m=\u001b[39m \u001b[38;5;124m\"\u001b[39m\u001b[38;5;124mb\u001b[39m\u001b[38;5;124m\"\u001b[39m\n\u001b[1;32m-> 1880\u001b[0m \u001b[38;5;28mself\u001b[39m\u001b[38;5;241m.\u001b[39mhandles \u001b[38;5;241m=\u001b[39m \u001b[43mget_handle\u001b[49m\u001b[43m(\u001b[49m\n\u001b[0;32m   1881\u001b[0m \u001b[43m    \u001b[49m\u001b[43mf\u001b[49m\u001b[43m,\u001b[49m\n\u001b[0;32m   1882\u001b[0m \u001b[43m    \u001b[49m\u001b[43mmode\u001b[49m\u001b[43m,\u001b[49m\n\u001b[0;32m   1883\u001b[0m \u001b[43m    \u001b[49m\u001b[43mencoding\u001b[49m\u001b[38;5;241;43m=\u001b[39;49m\u001b[38;5;28;43mself\u001b[39;49m\u001b[38;5;241;43m.\u001b[39;49m\u001b[43moptions\u001b[49m\u001b[38;5;241;43m.\u001b[39;49m\u001b[43mget\u001b[49m\u001b[43m(\u001b[49m\u001b[38;5;124;43m\"\u001b[39;49m\u001b[38;5;124;43mencoding\u001b[39;49m\u001b[38;5;124;43m\"\u001b[39;49m\u001b[43m,\u001b[49m\u001b[43m \u001b[49m\u001b[38;5;28;43;01mNone\u001b[39;49;00m\u001b[43m)\u001b[49m\u001b[43m,\u001b[49m\n\u001b[0;32m   1884\u001b[0m \u001b[43m    \u001b[49m\u001b[43mcompression\u001b[49m\u001b[38;5;241;43m=\u001b[39;49m\u001b[38;5;28;43mself\u001b[39;49m\u001b[38;5;241;43m.\u001b[39;49m\u001b[43moptions\u001b[49m\u001b[38;5;241;43m.\u001b[39;49m\u001b[43mget\u001b[49m\u001b[43m(\u001b[49m\u001b[38;5;124;43m\"\u001b[39;49m\u001b[38;5;124;43mcompression\u001b[39;49m\u001b[38;5;124;43m\"\u001b[39;49m\u001b[43m,\u001b[49m\u001b[43m \u001b[49m\u001b[38;5;28;43;01mNone\u001b[39;49;00m\u001b[43m)\u001b[49m\u001b[43m,\u001b[49m\n\u001b[0;32m   1885\u001b[0m \u001b[43m    \u001b[49m\u001b[43mmemory_map\u001b[49m\u001b[38;5;241;43m=\u001b[39;49m\u001b[38;5;28;43mself\u001b[39;49m\u001b[38;5;241;43m.\u001b[39;49m\u001b[43moptions\u001b[49m\u001b[38;5;241;43m.\u001b[39;49m\u001b[43mget\u001b[49m\u001b[43m(\u001b[49m\u001b[38;5;124;43m\"\u001b[39;49m\u001b[38;5;124;43mmemory_map\u001b[39;49m\u001b[38;5;124;43m\"\u001b[39;49m\u001b[43m,\u001b[49m\u001b[43m \u001b[49m\u001b[38;5;28;43;01mFalse\u001b[39;49;00m\u001b[43m)\u001b[49m\u001b[43m,\u001b[49m\n\u001b[0;32m   1886\u001b[0m \u001b[43m    \u001b[49m\u001b[43mis_text\u001b[49m\u001b[38;5;241;43m=\u001b[39;49m\u001b[43mis_text\u001b[49m\u001b[43m,\u001b[49m\n\u001b[0;32m   1887\u001b[0m \u001b[43m    \u001b[49m\u001b[43merrors\u001b[49m\u001b[38;5;241;43m=\u001b[39;49m\u001b[38;5;28;43mself\u001b[39;49m\u001b[38;5;241;43m.\u001b[39;49m\u001b[43moptions\u001b[49m\u001b[38;5;241;43m.\u001b[39;49m\u001b[43mget\u001b[49m\u001b[43m(\u001b[49m\u001b[38;5;124;43m\"\u001b[39;49m\u001b[38;5;124;43mencoding_errors\u001b[39;49m\u001b[38;5;124;43m\"\u001b[39;49m\u001b[43m,\u001b[49m\u001b[43m \u001b[49m\u001b[38;5;124;43m\"\u001b[39;49m\u001b[38;5;124;43mstrict\u001b[39;49m\u001b[38;5;124;43m\"\u001b[39;49m\u001b[43m)\u001b[49m\u001b[43m,\u001b[49m\n\u001b[0;32m   1888\u001b[0m \u001b[43m    \u001b[49m\u001b[43mstorage_options\u001b[49m\u001b[38;5;241;43m=\u001b[39;49m\u001b[38;5;28;43mself\u001b[39;49m\u001b[38;5;241;43m.\u001b[39;49m\u001b[43moptions\u001b[49m\u001b[38;5;241;43m.\u001b[39;49m\u001b[43mget\u001b[49m\u001b[43m(\u001b[49m\u001b[38;5;124;43m\"\u001b[39;49m\u001b[38;5;124;43mstorage_options\u001b[39;49m\u001b[38;5;124;43m\"\u001b[39;49m\u001b[43m,\u001b[49m\u001b[43m \u001b[49m\u001b[38;5;28;43;01mNone\u001b[39;49;00m\u001b[43m)\u001b[49m\u001b[43m,\u001b[49m\n\u001b[0;32m   1889\u001b[0m \u001b[43m\u001b[49m\u001b[43m)\u001b[49m\n\u001b[0;32m   1890\u001b[0m \u001b[38;5;28;01massert\u001b[39;00m \u001b[38;5;28mself\u001b[39m\u001b[38;5;241m.\u001b[39mhandles \u001b[38;5;129;01mis\u001b[39;00m \u001b[38;5;129;01mnot\u001b[39;00m \u001b[38;5;28;01mNone\u001b[39;00m\n\u001b[0;32m   1891\u001b[0m f \u001b[38;5;241m=\u001b[39m \u001b[38;5;28mself\u001b[39m\u001b[38;5;241m.\u001b[39mhandles\u001b[38;5;241m.\u001b[39mhandle\n",
      "File \u001b[1;32m~\\anaconda3\\Lib\\site-packages\\pandas\\io\\common.py:873\u001b[0m, in \u001b[0;36mget_handle\u001b[1;34m(path_or_buf, mode, encoding, compression, memory_map, is_text, errors, storage_options)\u001b[0m\n\u001b[0;32m    868\u001b[0m \u001b[38;5;28;01melif\u001b[39;00m \u001b[38;5;28misinstance\u001b[39m(handle, \u001b[38;5;28mstr\u001b[39m):\n\u001b[0;32m    869\u001b[0m     \u001b[38;5;66;03m# Check whether the filename is to be opened in binary mode.\u001b[39;00m\n\u001b[0;32m    870\u001b[0m     \u001b[38;5;66;03m# Binary mode does not support 'encoding' and 'newline'.\u001b[39;00m\n\u001b[0;32m    871\u001b[0m     \u001b[38;5;28;01mif\u001b[39;00m ioargs\u001b[38;5;241m.\u001b[39mencoding \u001b[38;5;129;01mand\u001b[39;00m \u001b[38;5;124m\"\u001b[39m\u001b[38;5;124mb\u001b[39m\u001b[38;5;124m\"\u001b[39m \u001b[38;5;129;01mnot\u001b[39;00m \u001b[38;5;129;01min\u001b[39;00m ioargs\u001b[38;5;241m.\u001b[39mmode:\n\u001b[0;32m    872\u001b[0m         \u001b[38;5;66;03m# Encoding\u001b[39;00m\n\u001b[1;32m--> 873\u001b[0m         handle \u001b[38;5;241m=\u001b[39m \u001b[38;5;28;43mopen\u001b[39;49m\u001b[43m(\u001b[49m\n\u001b[0;32m    874\u001b[0m \u001b[43m            \u001b[49m\u001b[43mhandle\u001b[49m\u001b[43m,\u001b[49m\n\u001b[0;32m    875\u001b[0m \u001b[43m            \u001b[49m\u001b[43mioargs\u001b[49m\u001b[38;5;241;43m.\u001b[39;49m\u001b[43mmode\u001b[49m\u001b[43m,\u001b[49m\n\u001b[0;32m    876\u001b[0m \u001b[43m            \u001b[49m\u001b[43mencoding\u001b[49m\u001b[38;5;241;43m=\u001b[39;49m\u001b[43mioargs\u001b[49m\u001b[38;5;241;43m.\u001b[39;49m\u001b[43mencoding\u001b[49m\u001b[43m,\u001b[49m\n\u001b[0;32m    877\u001b[0m \u001b[43m            \u001b[49m\u001b[43merrors\u001b[49m\u001b[38;5;241;43m=\u001b[39;49m\u001b[43merrors\u001b[49m\u001b[43m,\u001b[49m\n\u001b[0;32m    878\u001b[0m \u001b[43m            \u001b[49m\u001b[43mnewline\u001b[49m\u001b[38;5;241;43m=\u001b[39;49m\u001b[38;5;124;43m\"\u001b[39;49m\u001b[38;5;124;43m\"\u001b[39;49m\u001b[43m,\u001b[49m\n\u001b[0;32m    879\u001b[0m \u001b[43m        \u001b[49m\u001b[43m)\u001b[49m\n\u001b[0;32m    880\u001b[0m     \u001b[38;5;28;01melse\u001b[39;00m:\n\u001b[0;32m    881\u001b[0m         \u001b[38;5;66;03m# Binary mode\u001b[39;00m\n\u001b[0;32m    882\u001b[0m         handle \u001b[38;5;241m=\u001b[39m \u001b[38;5;28mopen\u001b[39m(handle, ioargs\u001b[38;5;241m.\u001b[39mmode)\n",
      "\u001b[1;31mFileNotFoundError\u001b[0m: [Errno 2] No such file or directory: 'custom_stopwords.csv'"
     ]
    }
   ],
   "source": [
    "df_stpwrds=pd.read_csv('custom_stopwords.csv')\n",
    "df_stpwrds"
   ]
  },
  {
   "cell_type": "code",
   "execution_count": null,
   "id": "a8f16069",
   "metadata": {},
   "outputs": [],
   "source": [
    "custom_stopwords=df_stpwrds['custom_stpwrds']\n",
    "\n",
    "all_stopwords=np.hstack([common_stopwords,custom_stopwords])"
   ]
  },
  {
   "cell_type": "code",
   "execution_count": null,
   "id": "d84f9195",
   "metadata": {},
   "outputs": [],
   "source": [
    "filtered_tokens=[w for w in tokens_all if w not in all_stopwords]"
   ]
  },
  {
   "cell_type": "code",
   "execution_count": null,
   "id": "6fa91db6",
   "metadata": {},
   "outputs": [],
   "source": [
    "len(filtered_tokens)"
   ]
  },
  {
   "cell_type": "code",
   "execution_count": null,
   "id": "b45fff3f",
   "metadata": {},
   "outputs": [],
   "source": [
    "tok_freq=pd.Series(filtered_tokens).value_counts().drop([''])\n",
    "tok_freq"
   ]
  },
  {
   "cell_type": "code",
   "execution_count": null,
   "id": "a7ef4a6e",
   "metadata": {},
   "outputs": [],
   "source": [
    "df_tokens=pd.DataFrame(tok_freq).reset_index().rename(columns={'index':'token',0:'frequency'})\n",
    "\n",
    "plt.figure(figsize=(20,8))\n",
    "df_tokens.set_index('token')['frequency'].head(20).plot.bar()\n",
    "plt.show()"
   ]
  },
  {
   "cell_type": "code",
   "execution_count": null,
   "id": "bf89559e",
   "metadata": {},
   "outputs": [],
   "source": [
    "pip install wordcloud"
   ]
  },
  {
   "cell_type": "code",
   "execution_count": null,
   "id": "c714e463",
   "metadata": {},
   "outputs": [],
   "source": [
    "df_tokens.to_csv('Token_freq.csv')"
   ]
  }
 ],
 "metadata": {
  "kernelspec": {
   "display_name": "Python 3 (ipykernel)",
   "language": "python",
   "name": "python3"
  },
  "language_info": {
   "codemirror_mode": {
    "name": "ipython",
    "version": 3
   },
   "file_extension": ".py",
   "mimetype": "text/x-python",
   "name": "python",
   "nbconvert_exporter": "python",
   "pygments_lexer": "ipython3",
   "version": "3.12.4"
  }
 },
 "nbformat": 4,
 "nbformat_minor": 5
}
